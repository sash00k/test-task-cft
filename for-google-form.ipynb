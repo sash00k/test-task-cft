{
 "cells": [
  {
   "cell_type": "code",
   "execution_count": 1,
   "id": "67b45b09",
   "metadata": {
    "_cell_guid": "b1076dfc-b9ad-4769-8c92-a6c4dae69d19",
    "_uuid": "8f2839f25d086af736a60e9eeb907d3b93b6e0e5",
    "execution": {
     "iopub.execute_input": "2023-01-03T08:59:07.908096Z",
     "iopub.status.busy": "2023-01-03T08:59:07.907580Z",
     "iopub.status.idle": "2023-01-03T08:59:07.951515Z",
     "shell.execute_reply": "2023-01-03T08:59:07.950458Z"
    },
    "papermill": {
     "duration": 0.061486,
     "end_time": "2023-01-03T08:59:07.955032",
     "exception": false,
     "start_time": "2023-01-03T08:59:07.893546",
     "status": "completed"
    },
    "tags": []
   },
   "outputs": [
    {
     "name": "stdout",
     "output_type": "stream",
     "text": [
      "/kaggle/input/data-preparation/purches_cols203_v3.csv\n",
      "/kaggle/input/data-preparation/__results__.html\n",
      "/kaggle/input/data-preparation/__notebook__.ipynb\n",
      "/kaggle/input/data-preparation/__output__.json\n",
      "/kaggle/input/data-preparation/purches.csv\n",
      "/kaggle/input/data-preparation/custom.css\n",
      "/kaggle/input/uplift-shift-23/baseline.csv\n",
      "/kaggle/input/uplift-shift-23/x5-uplift-valid/train_purch/train_purch.csv\n",
      "/kaggle/input/uplift-shift-23/x5-uplift-valid/data/products.csv\n",
      "/kaggle/input/uplift-shift-23/x5-uplift-valid/data/clients2.csv\n",
      "/kaggle/input/uplift-shift-23/x5-uplift-valid/data/train.csv\n",
      "/kaggle/input/uplift-shift-23/x5-uplift-valid/data/test.csv\n",
      "/kaggle/input/uplift-shift-23/x5-uplift-valid/test_purch/test_purch.csv\n"
     ]
    }
   ],
   "source": [
    "import numpy as np\n",
    "import pandas as pd\n",
    "\n",
    "from tqdm import tqdm\n",
    "tqdm.pandas()\n",
    "\n",
    "import os\n",
    "for dirname, _, filenames in os.walk('/kaggle/input'):\n",
    "    for filename in filenames:\n",
    "        print(os.path.join(dirname, filename))"
   ]
  },
  {
   "cell_type": "code",
   "execution_count": 2,
   "id": "8bac707a",
   "metadata": {
    "execution": {
     "iopub.execute_input": "2023-01-03T08:59:07.980379Z",
     "iopub.status.busy": "2023-01-03T08:59:07.979536Z",
     "iopub.status.idle": "2023-01-03T09:00:19.566173Z",
     "shell.execute_reply": "2023-01-03T09:00:19.564789Z"
    },
    "papermill": {
     "duration": 71.612317,
     "end_time": "2023-01-03T09:00:19.579561",
     "exception": false,
     "start_time": "2023-01-03T08:59:07.967244",
     "status": "completed"
    },
    "tags": []
   },
   "outputs": [
    {
     "name": "stdout",
     "output_type": "stream",
     "text": [
      "CPU times: user 39.6 s, sys: 7.57 s, total: 47.2 s\n",
      "Wall time: 1min 11s\n"
     ]
    }
   ],
   "source": [
    "%%time\n",
    "test_purch = pd.read_csv('/kaggle/input/uplift-shift-23/x5-uplift-valid/test_purch/test_purch.csv').set_index('client_id', drop=False)\n",
    "train_purch = pd.read_csv('/kaggle/input/uplift-shift-23/x5-uplift-valid/train_purch/train_purch.csv').set_index('client_id', drop=False)\n",
    "clients = pd.read_csv('/kaggle/input/uplift-shift-23/x5-uplift-valid/data/clients2.csv').set_index('client_id', drop=False)\n",
    "train = pd.read_csv('/kaggle/input/uplift-shift-23/x5-uplift-valid/data/train.csv').set_index('client_id', drop=False)\n",
    "products = pd.read_csv('/kaggle/input/uplift-shift-23/x5-uplift-valid/data/products.csv')"
   ]
  },
  {
   "cell_type": "markdown",
   "id": "fa4fd430",
   "metadata": {
    "papermill": {
     "duration": 0.011662,
     "end_time": "2023-01-03T09:00:19.604614",
     "exception": false,
     "start_time": "2023-01-03T09:00:19.592952",
     "status": "completed"
    },
    "tags": []
   },
   "source": [
    "#### 1) Каково значение аплифта на всем трейне?"
   ]
  },
  {
   "cell_type": "code",
   "execution_count": 3,
   "id": "a1737002",
   "metadata": {
    "execution": {
     "iopub.execute_input": "2023-01-03T09:00:19.631415Z",
     "iopub.status.busy": "2023-01-03T09:00:19.630977Z",
     "iopub.status.idle": "2023-01-03T09:00:19.637413Z",
     "shell.execute_reply": "2023-01-03T09:00:19.636026Z"
    },
    "papermill": {
     "duration": 0.022085,
     "end_time": "2023-01-03T09:00:19.639996",
     "exception": false,
     "start_time": "2023-01-03T09:00:19.617911",
     "status": "completed"
    },
    "tags": []
   },
   "outputs": [],
   "source": [
    "def uplift(df, purch_col = 'purchased', treat_col = 'treatment_flg'):\n",
    "    return (df.loc[df['treatment_flg']==1, 'purchased'].mean() - df.loc[df['treatment_flg']==0, 'purchased'].mean()) * 100"
   ]
  },
  {
   "cell_type": "code",
   "execution_count": 4,
   "id": "b47061f3",
   "metadata": {
    "execution": {
     "iopub.execute_input": "2023-01-03T09:00:19.664124Z",
     "iopub.status.busy": "2023-01-03T09:00:19.663682Z",
     "iopub.status.idle": "2023-01-03T09:00:19.685376Z",
     "shell.execute_reply": "2023-01-03T09:00:19.683963Z"
    },
    "papermill": {
     "duration": 0.036588,
     "end_time": "2023-01-03T09:00:19.688016",
     "exception": false,
     "start_time": "2023-01-03T09:00:19.651428",
     "status": "completed"
    },
    "tags": []
   },
   "outputs": [
    {
     "data": {
      "text/plain": [
       "3.354516795221374"
      ]
     },
     "execution_count": 4,
     "metadata": {},
     "output_type": "execute_result"
    }
   ],
   "source": [
    "# ровного такого варианта там нет (это странно, т.к. в других вопросах эта же функция дает посчитать точный ответ)\n",
    "uplift(train)"
   ]
  },
  {
   "cell_type": "markdown",
   "id": "3824fec3",
   "metadata": {
    "papermill": {
     "duration": 0.010372,
     "end_time": "2023-01-03T09:00:19.709453",
     "exception": false,
     "start_time": "2023-01-03T09:00:19.699081",
     "status": "completed"
    },
    "tags": []
   },
   "source": [
    "#### 2) Выберите правильные утверждения:"
   ]
  },
  {
   "cell_type": "code",
   "execution_count": 5,
   "id": "256a2d77",
   "metadata": {
    "execution": {
     "iopub.execute_input": "2023-01-03T09:00:19.733116Z",
     "iopub.status.busy": "2023-01-03T09:00:19.732667Z",
     "iopub.status.idle": "2023-01-03T09:00:20.037184Z",
     "shell.execute_reply": "2023-01-03T09:00:20.036023Z"
    },
    "papermill": {
     "duration": 0.319784,
     "end_time": "2023-01-03T09:00:20.039919",
     "exception": false,
     "start_time": "2023-01-03T09:00:19.720135",
     "status": "completed"
    },
    "tags": []
   },
   "outputs": [
    {
     "name": "stdout",
     "output_type": "stream",
     "text": [
      "F 51559\n",
      "M 23503\n",
      "U 64965\n"
     ]
    }
   ],
   "source": [
    "# ВОПРОС: В трейне мужчин больше чем женщин. \n",
    "# ОТВЕТ: False\n",
    "for name, group in clients.loc[train.index].groupby('gender'):\n",
    "    print(name, group.shape[0])"
   ]
  },
  {
   "cell_type": "code",
   "execution_count": 6,
   "id": "4f354871",
   "metadata": {
    "execution": {
     "iopub.execute_input": "2023-01-03T09:00:20.064316Z",
     "iopub.status.busy": "2023-01-03T09:00:20.063813Z",
     "iopub.status.idle": "2023-01-03T09:00:20.244100Z",
     "shell.execute_reply": "2023-01-03T09:00:20.243134Z"
    },
    "papermill": {
     "duration": 0.195957,
     "end_time": "2023-01-03T09:00:20.246736",
     "exception": false,
     "start_time": "2023-01-03T09:00:20.050779",
     "status": "completed"
    },
    "tags": []
   },
   "outputs": [
    {
     "data": {
      "text/plain": [
       "45.0"
      ]
     },
     "execution_count": 6,
     "metadata": {},
     "output_type": "execute_result"
    }
   ],
   "source": [
    "# ВОПРОС: Медианный возраст всех людей в трейне равен 39 годам.\n",
    "# ОТВЕТ: False\n",
    "clients.loc[train.index]['age'].median()"
   ]
  },
  {
   "cell_type": "code",
   "execution_count": 7,
   "id": "8fc0686b",
   "metadata": {
    "execution": {
     "iopub.execute_input": "2023-01-03T09:00:20.272812Z",
     "iopub.status.busy": "2023-01-03T09:00:20.270311Z",
     "iopub.status.idle": "2023-01-03T09:00:20.670881Z",
     "shell.execute_reply": "2023-01-03T09:00:20.669152Z"
    },
    "papermill": {
     "duration": 0.415919,
     "end_time": "2023-01-03T09:00:20.673935",
     "exception": false,
     "start_time": "2023-01-03T09:00:20.258016",
     "status": "completed"
    },
    "tags": []
   },
   "outputs": [
    {
     "name": "stdout",
     "output_type": "stream",
     "text": [
      "5.06140212921522 2.1301489366581716\n",
      "2.3760789877705304\n"
     ]
    }
   ],
   "source": [
    "# ВОПРОС: Аплифт в группе людей, возраст которых больше 50 лет, \n",
    "# примерно в два раза выше чем у остальных людей\n",
    "# ОТВЕТ: True\n",
    "train_clients = clients.loc[train.index]\n",
    "more50 = train_clients[train_clients['age'] > 50].index\n",
    "less50 = train_clients[train_clients['age'] <= 50].index\n",
    "\n",
    "print(uplift(train.loc[more50]), uplift(train.loc[less50]))\n",
    "print(uplift(train.loc[more50]) / uplift(train.loc[less50]))"
   ]
  },
  {
   "cell_type": "code",
   "execution_count": 8,
   "id": "f786cd06",
   "metadata": {
    "execution": {
     "iopub.execute_input": "2023-01-03T09:00:20.697637Z",
     "iopub.status.busy": "2023-01-03T09:00:20.697202Z",
     "iopub.status.idle": "2023-01-03T09:00:41.725347Z",
     "shell.execute_reply": "2023-01-03T09:00:41.724156Z"
    },
    "papermill": {
     "duration": 21.042904,
     "end_time": "2023-01-03T09:00:41.727979",
     "exception": false,
     "start_time": "2023-01-03T09:00:20.685075",
     "status": "completed"
    },
    "tags": []
   },
   "outputs": [
    {
     "name": "stderr",
     "output_type": "stream",
     "text": [
      "100%|██████████| 15998952/15998952 [00:19<00:00, 830802.76it/s]\n"
     ]
    },
    {
     "data": {
      "text/plain": [
       "'2019-03-18'"
      ]
     },
     "execution_count": 8,
     "metadata": {},
     "output_type": "execute_result"
    }
   ],
   "source": [
    "# ВОПРОС: Последняя покупка в train_purch была совершена в марте 2018 года.\n",
    "# ОТВЕТ: False\n",
    "\n",
    "train_purch['transaction_day_str'] = train_purch['transaction_datetime'].progress_apply(lambda x: x[:10])\n",
    "train_purch['transaction_day_str'].max()"
   ]
  },
  {
   "cell_type": "markdown",
   "id": "cd6b4d64",
   "metadata": {
    "papermill": {
     "duration": 0.023077,
     "end_time": "2023-01-03T09:00:41.775189",
     "exception": false,
     "start_time": "2023-01-03T09:00:41.752112",
     "status": "completed"
    },
    "tags": []
   },
   "source": [
    "#### 3) На какую максимальную сумму в train_purch была совершена покупка? (округлить до целого)"
   ]
  },
  {
   "cell_type": "code",
   "execution_count": 9,
   "id": "e336f32b",
   "metadata": {
    "execution": {
     "iopub.execute_input": "2023-01-03T09:00:41.823592Z",
     "iopub.status.busy": "2023-01-03T09:00:41.822530Z",
     "iopub.status.idle": "2023-01-03T09:00:41.875464Z",
     "shell.execute_reply": "2023-01-03T09:00:41.873524Z"
    },
    "papermill": {
     "duration": 0.079949,
     "end_time": "2023-01-03T09:00:41.878530",
     "exception": false,
     "start_time": "2023-01-03T09:00:41.798581",
     "status": "completed"
    },
    "tags": []
   },
   "outputs": [
    {
     "data": {
      "text/plain": [
       "29611.48"
      ]
     },
     "execution_count": 9,
     "metadata": {},
     "output_type": "execute_result"
    }
   ],
   "source": [
    "train_purch['purchase_sum'].max()"
   ]
  },
  {
   "cell_type": "markdown",
   "id": "a2dc8ebd",
   "metadata": {
    "papermill": {
     "duration": 0.022988,
     "end_time": "2023-01-03T09:00:41.924567",
     "exception": false,
     "start_time": "2023-01-03T09:00:41.901579",
     "status": "completed"
    },
    "tags": []
   },
   "source": [
    "#### 4) Каково мат. ожидание кол-ва посетителей во всех магазин в train_purch в день? (округлить до целого)"
   ]
  },
  {
   "cell_type": "code",
   "execution_count": 10,
   "id": "1cb23fd8",
   "metadata": {
    "execution": {
     "iopub.execute_input": "2023-01-03T09:00:41.974760Z",
     "iopub.status.busy": "2023-01-03T09:00:41.973945Z",
     "iopub.status.idle": "2023-01-03T09:00:47.308960Z",
     "shell.execute_reply": "2023-01-03T09:00:47.307684Z"
    },
    "papermill": {
     "duration": 5.363997,
     "end_time": "2023-01-03T09:00:47.311932",
     "exception": false,
     "start_time": "2023-01-03T09:00:41.947935",
     "status": "completed"
    },
    "tags": []
   },
   "outputs": [
    {
     "data": {
      "text/plain": [
       "23855.915254237287"
      ]
     },
     "execution_count": 10,
     "metadata": {},
     "output_type": "execute_result"
    }
   ],
   "source": [
    "# здесь 1 транзакция = 1 посетитель\n",
    "train_purch.groupby('transaction_day_str')['transaction_id'].nunique().mean()"
   ]
  },
  {
   "cell_type": "markdown",
   "id": "e7d8be06",
   "metadata": {
    "papermill": {
     "duration": 0.023361,
     "end_time": "2023-01-03T09:00:47.358859",
     "exception": false,
     "start_time": "2023-01-03T09:00:47.335498",
     "status": "completed"
    },
    "tags": []
   },
   "source": [
    "#### 5) Какого значения аплифта можно достичь, если осуществить воздействие на людей, с момента последней покупки которых прошло 10 и более дней?"
   ]
  },
  {
   "cell_type": "code",
   "execution_count": 11,
   "id": "6eb39af6",
   "metadata": {
    "execution": {
     "iopub.execute_input": "2023-01-03T09:00:47.407284Z",
     "iopub.status.busy": "2023-01-03T09:00:47.406570Z",
     "iopub.status.idle": "2023-01-03T09:02:29.376664Z",
     "shell.execute_reply": "2023-01-03T09:02:29.373583Z"
    },
    "papermill": {
     "duration": 101.997929,
     "end_time": "2023-01-03T09:02:29.379675",
     "exception": false,
     "start_time": "2023-01-03T09:00:47.381746",
     "status": "completed"
    },
    "tags": []
   },
   "outputs": [
    {
     "name": "stderr",
     "output_type": "stream",
     "text": [
      "100%|██████████| 15998952/15998952 [01:35<00:00, 166699.27it/s]\n"
     ]
    }
   ],
   "source": [
    "train_purch['transaction_secs'] = pd.to_datetime(train_purch['transaction_datetime'], format='%Y-%m-%d %H:%M:%S').progress_apply(lambda x: x.timestamp())"
   ]
  },
  {
   "cell_type": "code",
   "execution_count": 12,
   "id": "79ab21fb",
   "metadata": {
    "execution": {
     "iopub.execute_input": "2023-01-03T09:02:29.468406Z",
     "iopub.status.busy": "2023-01-03T09:02:29.467961Z",
     "iopub.status.idle": "2023-01-03T09:02:37.199228Z",
     "shell.execute_reply": "2023-01-03T09:02:37.197886Z"
    },
    "papermill": {
     "duration": 7.779495,
     "end_time": "2023-01-03T09:02:37.202325",
     "exception": false,
     "start_time": "2023-01-03T09:02:29.422830",
     "status": "completed"
    },
    "tags": []
   },
   "outputs": [
    {
     "name": "stdout",
     "output_type": "stream",
     "text": [
      "CPU times: user 5 s, sys: 2.71 s, total: 7.72 s\n",
      "Wall time: 7.72 s\n"
     ]
    }
   ],
   "source": [
    "%%time\n",
    "last_purches = train_purch.drop('client_id', axis=1).groupby('client_id')['transaction_secs'].max()"
   ]
  },
  {
   "cell_type": "code",
   "execution_count": 13,
   "id": "eaf533de",
   "metadata": {
    "execution": {
     "iopub.execute_input": "2023-01-03T09:02:37.290390Z",
     "iopub.status.busy": "2023-01-03T09:02:37.289947Z",
     "iopub.status.idle": "2023-01-03T09:02:37.310124Z",
     "shell.execute_reply": "2023-01-03T09:02:37.308884Z"
    },
    "papermill": {
     "duration": 0.066767,
     "end_time": "2023-01-03T09:02:37.312956",
     "exception": false,
     "start_time": "2023-01-03T09:02:37.246189",
     "status": "completed"
    },
    "tags": []
   },
   "outputs": [],
   "source": [
    "cur_time = max(last_purches) # видимо, имеется в виду это\n",
    "more10days = cur_time - last_purches >= 10 * 24 * 60 * 60"
   ]
  },
  {
   "cell_type": "code",
   "execution_count": 14,
   "id": "f68eebb7",
   "metadata": {
    "execution": {
     "iopub.execute_input": "2023-01-03T09:02:37.399852Z",
     "iopub.status.busy": "2023-01-03T09:02:37.399437Z",
     "iopub.status.idle": "2023-01-03T09:02:37.446546Z",
     "shell.execute_reply": "2023-01-03T09:02:37.445330Z"
    },
    "papermill": {
     "duration": 0.093702,
     "end_time": "2023-01-03T09:02:37.449297",
     "exception": false,
     "start_time": "2023-01-03T09:02:37.355595",
     "status": "completed"
    },
    "tags": []
   },
   "outputs": [
    {
     "data": {
      "text/plain": [
       "3.7241569749273062"
      ]
     },
     "execution_count": 14,
     "metadata": {},
     "output_type": "execute_result"
    }
   ],
   "source": [
    "uplift(train.loc[more10days[more10days].index])"
   ]
  },
  {
   "cell_type": "markdown",
   "id": "c747dc1f",
   "metadata": {
    "papermill": {
     "duration": 0.044005,
     "end_time": "2023-01-03T09:02:37.541093",
     "exception": false,
     "start_time": "2023-01-03T09:02:37.497088",
     "status": "completed"
    },
    "tags": []
   },
   "source": [
    "#### 6) Какова доля продукции собственного производства в покупках среди всех покупок?"
   ]
  },
  {
   "cell_type": "code",
   "execution_count": 15,
   "id": "a47e1dfa",
   "metadata": {
    "execution": {
     "iopub.execute_input": "2023-01-03T09:02:37.631592Z",
     "iopub.status.busy": "2023-01-03T09:02:37.631046Z",
     "iopub.status.idle": "2023-01-03T09:02:39.484507Z",
     "shell.execute_reply": "2023-01-03T09:02:39.482846Z"
    },
    "papermill": {
     "duration": 1.902122,
     "end_time": "2023-01-03T09:02:39.487581",
     "exception": false,
     "start_time": "2023-01-03T09:02:37.585459",
     "status": "completed"
    },
    "tags": []
   },
   "outputs": [],
   "source": [
    "train_purch.drop(columns=['transaction_secs', 'transaction_day_str'], inplace=True)"
   ]
  },
  {
   "cell_type": "code",
   "execution_count": 16,
   "id": "296c81da",
   "metadata": {
    "execution": {
     "iopub.execute_input": "2023-01-03T09:02:39.577503Z",
     "iopub.status.busy": "2023-01-03T09:02:39.576135Z",
     "iopub.status.idle": "2023-01-03T09:02:44.159996Z",
     "shell.execute_reply": "2023-01-03T09:02:44.158543Z"
    },
    "papermill": {
     "duration": 4.632094,
     "end_time": "2023-01-03T09:02:44.163302",
     "exception": false,
     "start_time": "2023-01-03T09:02:39.531208",
     "status": "completed"
    },
    "tags": []
   },
   "outputs": [
    {
     "name": "stdout",
     "output_type": "stream",
     "text": [
      "CPU times: user 2.84 s, sys: 1.72 s, total: 4.57 s\n",
      "Wall time: 4.58 s\n"
     ]
    }
   ],
   "source": [
    "%%time\n",
    "purches = test_purch.append(train_purch, ignore_index=True)"
   ]
  },
  {
   "cell_type": "code",
   "execution_count": 17,
   "id": "48726579",
   "metadata": {
    "execution": {
     "iopub.execute_input": "2023-01-03T09:02:44.251592Z",
     "iopub.status.busy": "2023-01-03T09:02:44.250707Z",
     "iopub.status.idle": "2023-01-03T09:02:51.998036Z",
     "shell.execute_reply": "2023-01-03T09:02:51.996810Z"
    },
    "papermill": {
     "duration": 7.7939,
     "end_time": "2023-01-03T09:02:52.000416",
     "exception": false,
     "start_time": "2023-01-03T09:02:44.206516",
     "status": "completed"
    },
    "tags": []
   },
   "outputs": [
    {
     "data": {
      "text/plain": [
       "15.239869088817793"
      ]
     },
     "execution_count": 17,
     "metadata": {},
     "output_type": "execute_result"
    }
   ],
   "source": [
    "tmp = pd.merge(products[['product_id', 'is_own_trademark']], purches['product_id'], how='right', on='product_id')\n",
    "tmp['is_own_trademark'].sum() / tmp.shape[0] * 100"
   ]
  },
  {
   "cell_type": "markdown",
   "id": "bc33bfb9",
   "metadata": {
    "papermill": {
     "duration": 0.042908,
     "end_time": "2023-01-03T09:02:52.086311",
     "exception": false,
     "start_time": "2023-01-03T09:02:52.043403",
     "status": "completed"
    },
    "tags": []
   },
   "source": [
    "#### 7) Влияет ли факт покупки самого популярного продукта на аплифт? Если влияет, то каково значение аплифта?"
   ]
  },
  {
   "cell_type": "code",
   "execution_count": 18,
   "id": "2c98f240",
   "metadata": {
    "execution": {
     "iopub.execute_input": "2023-01-03T09:02:52.175376Z",
     "iopub.status.busy": "2023-01-03T09:02:52.174675Z",
     "iopub.status.idle": "2023-01-03T09:02:55.040717Z",
     "shell.execute_reply": "2023-01-03T09:02:55.039486Z"
    },
    "papermill": {
     "duration": 2.913875,
     "end_time": "2023-01-03T09:02:55.043328",
     "exception": false,
     "start_time": "2023-01-03T09:02:52.129453",
     "status": "completed"
    },
    "tags": []
   },
   "outputs": [
    {
     "data": {
      "text/plain": [
       "('4009f09b04', 636488)"
      ]
     },
     "execution_count": 18,
     "metadata": {},
     "output_type": "execute_result"
    }
   ],
   "source": [
    "prod_count = train_purch.groupby('product_id')['transaction_id'].count()\n",
    "most_pop_prod = prod_count.idxmax()\n",
    "prod_count.idxmax(), prod_count.max()"
   ]
  },
  {
   "cell_type": "code",
   "execution_count": 19,
   "id": "72fa6fb4",
   "metadata": {
    "execution": {
     "iopub.execute_input": "2023-01-03T09:02:55.132039Z",
     "iopub.status.busy": "2023-01-03T09:02:55.131635Z",
     "iopub.status.idle": "2023-01-03T09:02:56.675698Z",
     "shell.execute_reply": "2023-01-03T09:02:56.674164Z"
    },
    "papermill": {
     "duration": 1.592982,
     "end_time": "2023-01-03T09:02:56.679443",
     "exception": false,
     "start_time": "2023-01-03T09:02:55.086461",
     "status": "completed"
    },
    "tags": []
   },
   "outputs": [],
   "source": [
    "clients_bought_pop_prod = train_purch[train_purch['product_id'] == most_pop_prod].index.unique()"
   ]
  },
  {
   "cell_type": "code",
   "execution_count": 20,
   "id": "f4f492ab",
   "metadata": {
    "execution": {
     "iopub.execute_input": "2023-01-03T09:02:56.778440Z",
     "iopub.status.busy": "2023-01-03T09:02:56.777965Z",
     "iopub.status.idle": "2023-01-03T09:02:56.879140Z",
     "shell.execute_reply": "2023-01-03T09:02:56.877893Z"
    },
    "papermill": {
     "duration": 0.150019,
     "end_time": "2023-01-03T09:02:56.881883",
     "exception": false,
     "start_time": "2023-01-03T09:02:56.731864",
     "status": "completed"
    },
    "tags": []
   },
   "outputs": [
    {
     "data": {
      "text/plain": [
       "2.643710546147404"
      ]
     },
     "execution_count": 20,
     "metadata": {},
     "output_type": "execute_result"
    }
   ],
   "source": [
    "uplift(train.loc[clients_bought_pop_prod])"
   ]
  },
  {
   "cell_type": "markdown",
   "id": "539535c7",
   "metadata": {
    "papermill": {
     "duration": 0.044112,
     "end_time": "2023-01-03T09:02:56.969210",
     "exception": false,
     "start_time": "2023-01-03T09:02:56.925098",
     "status": "completed"
    },
    "tags": []
   },
   "source": [
    "#### 8) Разделим покупателей на две группы: владеют картой покупателя > 100 дней (группа А), владеют картой покупателя <= 100 дней (группа Б). Правда ли то, что аплифт в группе А меньше, чем в группе Б? Если правда, то на сколько меньше (разница между процентами)?"
   ]
  },
  {
   "cell_type": "code",
   "execution_count": 21,
   "id": "862650a3",
   "metadata": {
    "execution": {
     "iopub.execute_input": "2023-01-03T09:02:57.059500Z",
     "iopub.status.busy": "2023-01-03T09:02:57.058757Z",
     "iopub.status.idle": "2023-01-03T09:02:58.231424Z",
     "shell.execute_reply": "2023-01-03T09:02:58.230168Z"
    },
    "papermill": {
     "duration": 1.221065,
     "end_time": "2023-01-03T09:02:58.234002",
     "exception": false,
     "start_time": "2023-01-03T09:02:57.012937",
     "status": "completed"
    },
    "tags": []
   },
   "outputs": [
    {
     "name": "stderr",
     "output_type": "stream",
     "text": [
      "100%|██████████| 182493/182493 [00:01<00:00, 177563.33it/s]\n"
     ]
    }
   ],
   "source": [
    "# избавляемся тут с помощью dropna() от тех, у кого карты покупателя нет вообще\n",
    "clients['get_card_secs'] = pd.to_datetime(clients['first_redeem_date'].dropna(), format='%Y-%m-%d %H:%M:%S').progress_apply(lambda x: x.timestamp())"
   ]
  },
  {
   "cell_type": "code",
   "execution_count": 22,
   "id": "2f92eaa1",
   "metadata": {
    "execution": {
     "iopub.execute_input": "2023-01-03T09:02:58.323501Z",
     "iopub.status.busy": "2023-01-03T09:02:58.323076Z",
     "iopub.status.idle": "2023-01-03T09:02:58.487899Z",
     "shell.execute_reply": "2023-01-03T09:02:58.486629Z"
    },
    "papermill": {
     "duration": 0.213043,
     "end_time": "2023-01-03T09:02:58.490757",
     "exception": false,
     "start_time": "2023-01-03T09:02:58.277714",
     "status": "completed"
    },
    "tags": []
   },
   "outputs": [],
   "source": [
    "train_clients = clients.loc[train.index]"
   ]
  },
  {
   "cell_type": "code",
   "execution_count": 23,
   "id": "2706271f",
   "metadata": {
    "execution": {
     "iopub.execute_input": "2023-01-03T09:02:58.580426Z",
     "iopub.status.busy": "2023-01-03T09:02:58.579978Z",
     "iopub.status.idle": "2023-01-03T09:02:58.588481Z",
     "shell.execute_reply": "2023-01-03T09:02:58.587362Z"
    },
    "papermill": {
     "duration": 0.056352,
     "end_time": "2023-01-03T09:02:58.591020",
     "exception": false,
     "start_time": "2023-01-03T09:02:58.534668",
     "status": "completed"
    },
    "tags": []
   },
   "outputs": [],
   "source": [
    "more100days = cur_time - train_clients['get_card_secs'].dropna() > 100 * 24 * 60 * 60"
   ]
  },
  {
   "cell_type": "code",
   "execution_count": 24,
   "id": "701eeed3",
   "metadata": {
    "execution": {
     "iopub.execute_input": "2023-01-03T09:02:58.681306Z",
     "iopub.status.busy": "2023-01-03T09:02:58.680873Z",
     "iopub.status.idle": "2023-01-03T09:02:58.686087Z",
     "shell.execute_reply": "2023-01-03T09:02:58.684808Z"
    },
    "papermill": {
     "duration": 0.053981,
     "end_time": "2023-01-03T09:02:58.688396",
     "exception": false,
     "start_time": "2023-01-03T09:02:58.634415",
     "status": "completed"
    },
    "tags": []
   },
   "outputs": [],
   "source": [
    "A = more100days\n",
    "B = ~more100days"
   ]
  },
  {
   "cell_type": "code",
   "execution_count": 25,
   "id": "cce6be8c",
   "metadata": {
    "execution": {
     "iopub.execute_input": "2023-01-03T09:02:58.779838Z",
     "iopub.status.busy": "2023-01-03T09:02:58.779360Z",
     "iopub.status.idle": "2023-01-03T09:02:58.868077Z",
     "shell.execute_reply": "2023-01-03T09:02:58.866795Z"
    },
    "papermill": {
     "duration": 0.137474,
     "end_time": "2023-01-03T09:02:58.870914",
     "exception": false,
     "start_time": "2023-01-03T09:02:58.733440",
     "status": "completed"
    },
    "tags": []
   },
   "outputs": [
    {
     "data": {
      "text/plain": [
       "2.240123502012259"
      ]
     },
     "execution_count": 25,
     "metadata": {},
     "output_type": "execute_result"
    }
   ],
   "source": [
    "# неточное совпадение ответа скорее всего потому что я смотрю на точные 10 суток в секундах, а не просто на дату\n",
    "uplift(train.loc[B[B].index]) - uplift(train.loc[A[A].index])"
   ]
  },
  {
   "cell_type": "markdown",
   "id": "2368360b",
   "metadata": {
    "papermill": {
     "duration": 0.044187,
     "end_time": "2023-01-03T09:02:58.959935",
     "exception": false,
     "start_time": "2023-01-03T09:02:58.915748",
     "status": "completed"
    },
    "tags": []
   },
   "source": [
    "#### 9) Разделим покупателей на две группы: покупали продукты собственного производства хоть раз (группа А), вообще не покупали продукты собственного производства (группа Б). Правда ли то, что аплифт в группе А меньше чем в группе Б? Если правда, то на сколько меньше? (округлить до среднего)"
   ]
  },
  {
   "cell_type": "code",
   "execution_count": 26,
   "id": "bda2a9db",
   "metadata": {
    "execution": {
     "iopub.execute_input": "2023-01-03T09:02:59.051979Z",
     "iopub.status.busy": "2023-01-03T09:02:59.051551Z",
     "iopub.status.idle": "2023-01-03T09:03:03.066546Z",
     "shell.execute_reply": "2023-01-03T09:03:03.065145Z"
    },
    "papermill": {
     "duration": 4.064673,
     "end_time": "2023-01-03T09:03:03.069278",
     "exception": false,
     "start_time": "2023-01-03T09:02:59.004605",
     "status": "completed"
    },
    "tags": []
   },
   "outputs": [
    {
     "name": "stdout",
     "output_type": "stream",
     "text": [
      "CPU times: user 3.79 s, sys: 216 ms, total: 4.01 s\n",
      "Wall time: 4.01 s\n"
     ]
    }
   ],
   "source": [
    "%%time\n",
    "own_prods = products[products['is_own_trademark'] == 1]['product_id']\n",
    "clients_bought_own_prods = pd.merge(train_purch[['client_id', 'product_id']], own_prods, how='right', on='product_id')['client_id'].drop_duplicates()"
   ]
  },
  {
   "cell_type": "code",
   "execution_count": 27,
   "id": "218bdd8d",
   "metadata": {
    "execution": {
     "iopub.execute_input": "2023-01-03T09:03:03.159632Z",
     "iopub.status.busy": "2023-01-03T09:03:03.159184Z",
     "iopub.status.idle": "2023-01-03T09:03:03.225842Z",
     "shell.execute_reply": "2023-01-03T09:03:03.224841Z"
    },
    "papermill": {
     "duration": 0.114699,
     "end_time": "2023-01-03T09:03:03.228425",
     "exception": false,
     "start_time": "2023-01-03T09:03:03.113726",
     "status": "completed"
    },
    "tags": []
   },
   "outputs": [],
   "source": [
    "A_index = train.index.isin(clients_bought_own_prods)\n",
    "B_index = ~A_index"
   ]
  },
  {
   "cell_type": "code",
   "execution_count": 28,
   "id": "5c2fb4a0",
   "metadata": {
    "execution": {
     "iopub.execute_input": "2023-01-03T09:03:03.319655Z",
     "iopub.status.busy": "2023-01-03T09:03:03.319214Z",
     "iopub.status.idle": "2023-01-03T09:03:03.346106Z",
     "shell.execute_reply": "2023-01-03T09:03:03.344908Z"
    },
    "papermill": {
     "duration": 0.075295,
     "end_time": "2023-01-03T09:03:03.348707",
     "exception": false,
     "start_time": "2023-01-03T09:03:03.273412",
     "status": "completed"
    },
    "tags": []
   },
   "outputs": [
    {
     "data": {
      "text/plain": [
       "4.728034139476883"
      ]
     },
     "execution_count": 28,
     "metadata": {},
     "output_type": "execute_result"
    }
   ],
   "source": [
    "uplift(train[B_index]) - uplift(train[A_index])"
   ]
  },
  {
   "cell_type": "markdown",
   "id": "25a13888",
   "metadata": {
    "papermill": {
     "duration": 0.046732,
     "end_time": "2023-01-03T09:03:03.439667",
     "exception": false,
     "start_time": "2023-01-03T09:03:03.392935",
     "status": "completed"
    },
    "tags": []
   },
   "source": [
    "#### 10) Разделим покупателей на две группы. В группе А у большей части покупок клиента чек больше среднего чека по всей выборке. В группе Б у  большей части покупок клиента чек меньше среднего чека по всей выборке. Правда ли то, что аплифт в группе А меньше, чем в группе Б?"
   ]
  },
  {
   "cell_type": "code",
   "execution_count": 29,
   "id": "78068582",
   "metadata": {
    "execution": {
     "iopub.execute_input": "2023-01-03T09:03:03.531627Z",
     "iopub.status.busy": "2023-01-03T09:03:03.530419Z",
     "iopub.status.idle": "2023-01-03T09:03:31.274333Z",
     "shell.execute_reply": "2023-01-03T09:03:31.272775Z"
    },
    "papermill": {
     "duration": 27.793556,
     "end_time": "2023-01-03T09:03:31.277244",
     "exception": false,
     "start_time": "2023-01-03T09:03:03.483688",
     "status": "completed"
    },
    "tags": []
   },
   "outputs": [
    {
     "name": "stdout",
     "output_type": "stream",
     "text": [
      "CPU times: user 27.4 s, sys: 404 ms, total: 27.8 s\n",
      "Wall time: 27.7 s\n"
     ]
    }
   ],
   "source": [
    "%%time\n",
    "mean_bill_sum_train = train_purch.groupby('transaction_id')['purchase_sum'].sum().mean() # смотрим среднее и только по train_purch\n",
    "mean_bill_sum_common = purches.groupby('transaction_id')['purchase_sum'].sum().mean() # и по train_purch + test_purch"
   ]
  },
  {
   "cell_type": "code",
   "execution_count": 30,
   "id": "9eeddfaa",
   "metadata": {
    "execution": {
     "iopub.execute_input": "2023-01-03T09:03:31.368711Z",
     "iopub.status.busy": "2023-01-03T09:03:31.367958Z",
     "iopub.status.idle": "2023-01-03T09:05:58.423622Z",
     "shell.execute_reply": "2023-01-03T09:05:58.421882Z"
    },
    "papermill": {
     "duration": 147.105043,
     "end_time": "2023-01-03T09:05:58.426502",
     "exception": false,
     "start_time": "2023-01-03T09:03:31.321459",
     "status": "completed"
    },
    "tags": []
   },
   "outputs": [
    {
     "name": "stdout",
     "output_type": "stream",
     "text": [
      "grouping clients ...\n",
      "0.0%  3.571%  7.141%  10.71%  14.28%  17.85%  21.42%  25.0%  28.57%  32.14%  35.71%  39.28%  42.85%  46.42%  49.99%  53.56%  57.13%  60.7%  64.27%  67.84%  71.41%  74.99%  78.56%  82.13%  85.7%  89.27%  92.84%  96.41%  99.98%  \n",
      "CPU times: user 2min 25s, sys: 1.42 s, total: 2min 26s\n",
      "Wall time: 2min 27s\n"
     ]
    }
   ],
   "source": [
    "%%time\n",
    "A_group_train = list() \n",
    "A_group_common = list() \n",
    "print('grouping clients ...')\n",
    "grouped_by_clients = train_purch.drop('client_id', axis=1).groupby('client_id')[['transaction_id', 'purchase_sum']]\n",
    "for i, (client_id, data) in enumerate(grouped_by_clients):\n",
    "    cur_mean = (data.groupby('transaction_id')['purchase_sum'].sum() > mean_bill_sum_train).mean()\n",
    "    if cur_mean > 0.5:\n",
    "        A_group_train.append(client_id)\n",
    "    if cur_mean > 0.5:\n",
    "        A_group_common.append(client_id)\n",
    "        \n",
    "    if i % 5000 == 0:\n",
    "        print(f'{100 * i / len(train):>.4}%', end='  ')  \n",
    "print()"
   ]
  },
  {
   "cell_type": "code",
   "execution_count": 31,
   "id": "4d4e11e9",
   "metadata": {
    "execution": {
     "iopub.execute_input": "2023-01-03T09:05:58.521440Z",
     "iopub.status.busy": "2023-01-03T09:05:58.521001Z",
     "iopub.status.idle": "2023-01-03T09:05:58.575682Z",
     "shell.execute_reply": "2023-01-03T09:05:58.574318Z"
    },
    "papermill": {
     "duration": 0.104555,
     "end_time": "2023-01-03T09:05:58.578520",
     "exception": false,
     "start_time": "2023-01-03T09:05:58.473965",
     "status": "completed"
    },
    "tags": []
   },
   "outputs": [],
   "source": [
    "A_index_train = train.index.isin(A_group_train)\n",
    "B_index_train = ~A_index_train\n",
    "\n",
    "A_index_common = train.index.isin(A_group_common)\n",
    "B_index_common = ~A_index_common"
   ]
  },
  {
   "cell_type": "code",
   "execution_count": 32,
   "id": "6e2a881b",
   "metadata": {
    "execution": {
     "iopub.execute_input": "2023-01-03T09:05:58.672732Z",
     "iopub.status.busy": "2023-01-03T09:05:58.672288Z",
     "iopub.status.idle": "2023-01-03T09:05:58.723746Z",
     "shell.execute_reply": "2023-01-03T09:05:58.722565Z"
    },
    "papermill": {
     "duration": 0.10204,
     "end_time": "2023-01-03T09:05:58.726568",
     "exception": false,
     "start_time": "2023-01-03T09:05:58.624528",
     "status": "completed"
    },
    "tags": []
   },
   "outputs": [
    {
     "data": {
      "text/plain": [
       "(0.023081876007569058, 0.023081876007569058)"
      ]
     },
     "execution_count": 32,
     "metadata": {},
     "output_type": "execute_result"
    }
   ],
   "source": [
    "# обоих вариантов нет\n",
    "uplift(train[B_index_train]) - uplift(train[A_index_train]), \\\n",
    "uplift(train[B_index_common]) - uplift(train[A_index_common])"
   ]
  },
  {
   "cell_type": "code",
   "execution_count": 33,
   "id": "06b29ff6",
   "metadata": {
    "execution": {
     "iopub.execute_input": "2023-01-03T09:05:58.821345Z",
     "iopub.status.busy": "2023-01-03T09:05:58.820560Z",
     "iopub.status.idle": "2023-01-03T09:05:58.933194Z",
     "shell.execute_reply": "2023-01-03T09:05:58.931836Z"
    },
    "papermill": {
     "duration": 0.163078,
     "end_time": "2023-01-03T09:05:58.935688",
     "exception": false,
     "start_time": "2023-01-03T09:05:58.772610",
     "status": "completed"
    },
    "tags": []
   },
   "outputs": [
    {
     "data": {
      "text/plain": [
       "(775.8743808819485, 775.8723816644797)"
      ]
     },
     "execution_count": 33,
     "metadata": {},
     "output_type": "execute_result"
    }
   ],
   "source": [
    "train_mean = train_purch['purchase_sum'].mean()\n",
    "common_mean = purches['purchase_sum'].mean()\n",
    "train_mean, common_mean # слишком похожи, так что можно взять любое"
   ]
  },
  {
   "cell_type": "code",
   "execution_count": 34,
   "id": "a9758d5b",
   "metadata": {
    "execution": {
     "iopub.execute_input": "2023-01-03T09:05:59.029764Z",
     "iopub.status.busy": "2023-01-03T09:05:59.029353Z",
     "iopub.status.idle": "2023-01-03T09:06:35.209011Z",
     "shell.execute_reply": "2023-01-03T09:06:35.207503Z"
    },
    "papermill": {
     "duration": 36.230072,
     "end_time": "2023-01-03T09:06:35.211791",
     "exception": false,
     "start_time": "2023-01-03T09:05:58.981719",
     "status": "completed"
    },
    "tags": []
   },
   "outputs": [
    {
     "name": "stdout",
     "output_type": "stream",
     "text": [
      "0.0%  3.571%  7.141%  10.71%  14.28%  17.85%  21.42%  25.0%  28.57%  32.14%  35.71%  39.28%  42.85%  46.42%  49.99%  53.56%  57.13%  60.7%  64.27%  67.84%  71.41%  74.99%  78.56%  82.13%  85.7%  89.27%  92.84%  96.41%  99.98%  \n",
      "CPU times: user 35.3 s, sys: 851 ms, total: 36.2 s\n",
      "Wall time: 36.2 s\n"
     ]
    }
   ],
   "source": [
    "%%time\n",
    "A_group = list() \n",
    "B_group = list() \n",
    "\n",
    "grouped_by_clients = train_purch.drop('client_id', axis=1).groupby('client_id')['purchase_sum']\n",
    "for i, (client_id, client_purches) in enumerate(grouped_by_clients):\n",
    "    cur_mean = (client_purches > train_mean).mean()\n",
    "    if  cur_mean > 0.5:\n",
    "        A_group.append(client_id)\n",
    "    elif cur_mean < 0.5:\n",
    "        B_group.append(client_id)\n",
    "    \n",
    "    if i % 5000 == 0:\n",
    "        print(f'{100 * i / len(train):>.4}%', end='  ')  \n",
    "print()"
   ]
  },
  {
   "cell_type": "code",
   "execution_count": 35,
   "id": "e6de28d4",
   "metadata": {
    "execution": {
     "iopub.execute_input": "2023-01-03T09:06:35.310801Z",
     "iopub.status.busy": "2023-01-03T09:06:35.310390Z",
     "iopub.status.idle": "2023-01-03T09:06:35.409301Z",
     "shell.execute_reply": "2023-01-03T09:06:35.408207Z"
    },
    "papermill": {
     "duration": 0.151795,
     "end_time": "2023-01-03T09:06:35.412543",
     "exception": false,
     "start_time": "2023-01-03T09:06:35.260748",
     "status": "completed"
    },
    "tags": []
   },
   "outputs": [],
   "source": [
    "A_index = train.index.isin(A_group)\n",
    "B_index = train.index.isin(B_group)"
   ]
  },
  {
   "cell_type": "code",
   "execution_count": 36,
   "id": "30f18d1d",
   "metadata": {
    "execution": {
     "iopub.execute_input": "2023-01-03T09:06:35.512537Z",
     "iopub.status.busy": "2023-01-03T09:06:35.512121Z",
     "iopub.status.idle": "2023-01-03T09:06:35.542135Z",
     "shell.execute_reply": "2023-01-03T09:06:35.540941Z"
    },
    "papermill": {
     "duration": 0.082368,
     "end_time": "2023-01-03T09:06:35.544683",
     "exception": false,
     "start_time": "2023-01-03T09:06:35.462315",
     "status": "completed"
    },
    "tags": []
   },
   "outputs": [
    {
     "data": {
      "text/plain": [
       "1.062045096093589"
      ]
     },
     "execution_count": 36,
     "metadata": {},
     "output_type": "execute_result"
    }
   ],
   "source": [
    "# снова нет такого варианта (идей тоже нет, так что выберу просто ближайший вариант)\n",
    "uplift(train[B_index]) - uplift(train[A_index])"
   ]
  },
  {
   "cell_type": "markdown",
   "id": "fc6badae",
   "metadata": {
    "papermill": {
     "duration": 0.04732,
     "end_time": "2023-01-03T09:06:35.641639",
     "exception": false,
     "start_time": "2023-01-03T09:06:35.594319",
     "status": "completed"
    },
    "tags": []
   },
   "source": [
    "## P.S. \n",
    "\n",
    "#### Было бы классно, если бы можно было задать простые уточняющие вопросы типа \"Что именно считать за дату настоящего момента?\" или \"Что понимается под чеком (сумму котрого надо считать): purchases или transaction?\". \n",
    "\n",
    "#### А то много времени было потрачено на то, чтобы написать замороченные запросы и в итоге понять, что такого варината ответа в тесте близко нет, значит, имелось в виду что-то другое."
   ]
  }
 ],
 "metadata": {
  "kernelspec": {
   "display_name": "Python 3",
   "language": "python",
   "name": "python3"
  },
  "language_info": {
   "codemirror_mode": {
    "name": "ipython",
    "version": 3
   },
   "file_extension": ".py",
   "mimetype": "text/x-python",
   "name": "python",
   "nbconvert_exporter": "python",
   "pygments_lexer": "ipython3",
   "version": "3.7.12"
  },
  "papermill": {
   "default_parameters": {},
   "duration": 461.780593,
   "end_time": "2023-01-03T09:06:38.312254",
   "environment_variables": {},
   "exception": null,
   "input_path": "__notebook__.ipynb",
   "output_path": "__notebook__.ipynb",
   "parameters": {},
   "start_time": "2023-01-03T08:58:56.531661",
   "version": "2.3.4"
  }
 },
 "nbformat": 4,
 "nbformat_minor": 5
}
